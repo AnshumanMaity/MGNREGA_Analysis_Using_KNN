{
  "nbformat": 4,
  "nbformat_minor": 0,
  "metadata": {
    "colab": {
      "name": "DM Project",
      "provenance": [],
      "collapsed_sections": [],
      "authorship_tag": "ABX9TyPfwRkGHZRSMSZgZz2jlpvP",
      "include_colab_link": true
    },
    "kernelspec": {
      "name": "python3",
      "display_name": "Python 3"
    },
    "language_info": {
      "name": "python"
    }
  },
  "cells": [
    {
      "cell_type": "markdown",
      "metadata": {
        "id": "view-in-github",
        "colab_type": "text"
      },
      "source": [
        "<a href=\"https://colab.research.google.com/github/AnshumanMaity/MNREGA_Analysis_Using_KNN/blob/main/DM_Project.ipynb\" target=\"_parent\"><img src=\"https://colab.research.google.com/assets/colab-badge.svg\" alt=\"Open In Colab\"/></a>"
      ]
    },
    {
      "cell_type": "code",
      "metadata": {
        "id": "lk8gA3Dsu_zz"
      },
      "source": [
        "import numpy as np \n",
        "import pandas as pd\n",
        "import random \n",
        "from matplotlib import pyplot as plt \n",
        "\n",
        "label_dict = {\n",
        "    0 : \"good\" , \n",
        "    1 : \"average\",\n",
        "    2 : \"below\" \n",
        "}"
      ],
      "execution_count": 9,
      "outputs": []
    },
    {
      "cell_type": "code",
      "metadata": {
        "colab": {
          "base_uri": "https://localhost:8080/"
        },
        "id": "sVG0yiXscu6A",
        "outputId": "4d57bbb2-7804-47ed-9e5f-71063e6e140c"
      },
      "source": [
        "#Generating the train data and train labels\n",
        "train_data = []\n",
        "train_labels = []\n",
        "household=[]\n",
        "\n",
        "for i in range(0,1000) : \n",
        "    houslehold_working_per = np.random.rand()\n",
        "    average_wage = random.randint(100,500)\n",
        "    expenditure = random.randint(100,500)\n",
        "    worrking_days = random.randint(70,100)\n",
        "\n",
        "    temp = [houslehold_working_per, average_wage , expenditure , worrking_days]\n",
        "    train_data.append(temp)\n",
        "    household.append(houslehold_working_per)\n",
        "\n",
        "    if ((houslehold_working_per > 0.70) and (average_wage > 250) and (expenditure>150) and (worrking_days>60)) :\n",
        "        train_labels.append(0)\n",
        "    elif ((houslehold_working_per >= 0.50) and (average_wage >= 250) and (expenditure >= 350) and (20 <= worrking_days <= 50)) :\n",
        "      train_labels.append(0)\n",
        "    elif (( 0.40 <= houslehold_working_per <= 0.60) and (140<= average_wage <= 260) and (50 <= expenditure <= 150) and (30 <= worrking_days <= 60)) :\n",
        "      train_labels.append(1)\n",
        "    elif (( 0.20 <= houslehold_working_per <= 0.90) and (100 <= average_wage <= 500) and (100 <= expenditure <= 400) and (30 <= worrking_days <= 80)) :\n",
        "      train_labels.append(1)\n",
        "    elif (( 0.40 <= houslehold_working_per <= 0.70) and (200 <= average_wage <= 300) and (100 <= expenditure <= 200) and (worrking_days <= 50)) :\n",
        "      train_labels.append(2)\n",
        "\n",
        "    else :\n",
        "        train_labels.append(2)\n",
        "\n",
        "train_data[:10]"
      ],
      "execution_count": 10,
      "outputs": [
        {
          "output_type": "execute_result",
          "data": {
            "text/plain": [
              "[[0.3660421240173315, 124, 357, 75],\n",
              " [0.7315852384320158, 422, 239, 81],\n",
              " [0.3052190069992964, 471, 494, 76],\n",
              " [0.9536959616103536, 314, 485, 74],\n",
              " [0.6356763268830982, 369, 413, 96],\n",
              " [0.5482746230093057, 142, 279, 71],\n",
              " [0.8154809945708823, 475, 316, 71],\n",
              " [0.7345810902121379, 426, 232, 90],\n",
              " [0.3932574015088178, 449, 459, 85],\n",
              " [0.456229605997981, 211, 180, 91]]"
            ]
          },
          "metadata": {
            "tags": []
          },
          "execution_count": 10
        }
      ]
    },
    {
      "cell_type": "code",
      "metadata": {
        "colab": {
          "base_uri": "https://localhost:8080/",
          "height": 252
        },
        "id": "yD8t2h845Qhm",
        "outputId": "ca206587-8b4a-457d-cf91-9daf29b87866"
      },
      "source": [
        "f03=0\n",
        "f05=0\n",
        "f07=0\n",
        "f10=0\n",
        "for i in range(0,1000):\n",
        "  if(household[i]<0.3):\n",
        "    f03 += 1\n",
        "  elif(household[i]<0.5):\n",
        "    f05 += 1\n",
        "  elif(household[i]<0.7):\n",
        "    f07 += 1\n",
        "  elif(household[i]<=1):\n",
        "    f10 += 1\n",
        "\n",
        "labels='< 0.3%','< 0.5%','< 0.7%','< 100%'\n",
        "sizes=[f03,f05,f07,f10]\n",
        "explode=(0,0,0,0.1)\n",
        "fig1, ax1 = plt.subplots()\n",
        "ax1.pie(sizes, explode=explode, labels=labels, autopct='%5.1f%%',shadow=True, startangle=45)\n",
        "\n",
        "ax1.axis('equal')\n",
        "plt.show()"
      ],
      "execution_count": 11,
      "outputs": [
        {
          "output_type": "display_data",
          "data": {
            "image/png": "[encoded data removed]",
            "text/plain": [
              "<Figure size 432x288 with 1 Axes>"
            ]
          },
          "metadata": {
            "tags": []
          }
        }
      ]
    },
    {
      "cell_type": "code",
      "metadata": {
        "colab": {
          "base_uri": "https://localhost:8080/"
        },
        "id": "E83ednplzPFO",
        "outputId": "107635bc-1612-4760-cb1b-fd76b4ab2dac"
      },
      "source": [
        "print(train_labels.count(0))\n",
        "print(train_labels.count(1))\n",
        "print(train_labels.count(2))"
      ],
      "execution_count": 12,
      "outputs": [
        {
          "output_type": "stream",
          "text": [
            "171\n",
            "130\n",
            "699\n"
          ],
          "name": "stdout"
        }
      ]
    },
    {
      "cell_type": "code",
      "metadata": {
        "colab": {
          "base_uri": "https://localhost:8080/",
          "height": 250
        },
        "id": "5liSiuHg0yXL",
        "outputId": "683bf3e8-cf4e-41ff-c3e1-21b0a474b35a"
      },
      "source": [
        "\n",
        "#Vizualizing the train data\n",
        "labels='Good','Average','Below_Average'\n",
        "sizes=[train_labels.count(0),train_labels.count(1),train_labels.count(2)]\n",
        "explode=(0,0,0.1)\n",
        "fig1, ax1 = plt.subplots()\n",
        "ax1.pie(sizes, explode=explode, labels=labels, autopct='%5.1f%%',shadow=True, startangle=45)\n",
        "ax1.axis('equal')\n",
        "plt.show()"
      ],
      "execution_count": 13,
      "outputs": [
        {
          "output_type": "display_data",
          "data": {
            "image/png": "[encoded data removed]",
            "text/plain": [
              "<Figure size 432x288 with 1 Axes>"
            ]
          },
          "metadata": {
            "tags": []
          }
        }
      ]
    },
    {
      "cell_type": "code",
      "metadata": {
        "id": "Mp4mWNOj2_tS",
        "colab": {
          "base_uri": "https://localhost:8080/"
        },
        "outputId": "eadcaf4a-35c3-4a7b-a2c0-aeef3edbc7e5"
      },
      "source": [
        "#Generating the test data and test labels\n",
        "test_data = []\n",
        "test_labels = []\n",
        "\n",
        "for i in range(0,100) : \n",
        "    houslehold_working_per = np.random.rand()\n",
        "    average_wage = random.randint(100,500)\n",
        "    expenditure = random.randint(100,500)\n",
        "    worrking_days = random.randint(70,100)\n",
        "\n",
        "    temp = [houslehold_working_per, average_wage , expenditure , worrking_days]\n",
        "    test_data.append(temp)\n",
        "\n",
        "    if ((houslehold_working_per > 0.70) and (average_wage > 250) and (expenditure>150) and (worrking_days>60)) :\n",
        "        test_labels.append(0)\n",
        "    elif ((houslehold_working_per >= 0.50) and (average_wage >= 250) and (expenditure >= 350) and (20 <= worrking_days <= 50)) :\n",
        "      test_labels.append(0)\n",
        "    elif (( 0.40 <= houslehold_working_per <= 0.60) and (140<= average_wage <= 260) and (50 <= expenditure <= 150) and (30 <= worrking_days <= 60)) :\n",
        "      test_labels.append(1)\n",
        "    elif (( 0.20 <= houslehold_working_per <= 0.90) and (100 <= average_wage <= 500) and (100 <= expenditure <= 400) and (30 <= worrking_days <= 80)) :\n",
        "      test_labels.append(1)\n",
        "    elif (( 0.40 <= houslehold_working_per <= 0.70) and (200 <= average_wage <= 300) and (100 <= expenditure <= 200) and (worrking_days <= 50)) :\n",
        "      test_labels.append(2)\n",
        "\n",
        "    else :\n",
        "        test_labels.append(2)\n",
        "\n",
        "test_data[:10]"
      ],
      "execution_count": 14,
      "outputs": [
        {
          "output_type": "execute_result",
          "data": {
            "text/plain": [
              "[[0.028119529488672024, 389, 426, 95],\n",
              " [0.6332636342747716, 345, 188, 75],\n",
              " [0.7046170043160388, 321, 345, 90],\n",
              " [0.15949150998354789, 201, 255, 80],\n",
              " [0.3833651775675203, 157, 454, 75],\n",
              " [0.44749176115519496, 412, 205, 86],\n",
              " [0.21966442463778113, 416, 368, 73],\n",
              " [0.1676702633032292, 223, 190, 82],\n",
              " [0.9292165747389879, 233, 354, 94],\n",
              " [0.6154483058280866, 191, 128, 81]]"
            ]
          },
          "metadata": {
            "tags": []
          },
          "execution_count": 14
        }
      ]
    },
    {
      "cell_type": "code",
      "metadata": {
        "colab": {
          "base_uri": "https://localhost:8080/"
        },
        "id": "T6eLmw4l4qsz",
        "outputId": "981b314b-3741-4941-ce60-8a3e1d21867e"
      },
      "source": [
        "from sklearn.neighbors import KNeighborsClassifier\n",
        "from sklearn.metrics import accuracy_score\n",
        "\n",
        "k_vs_accuracy = []\n",
        "\n",
        "for k in range(2,10) : \n",
        "    neigh = KNeighborsClassifier(n_neighbors=k)\n",
        "    neigh.fit(train_data,train_labels)\n",
        "\n",
        "    predicted = neigh.predict(test_data)\n",
        "    \n",
        "    accuracy = accuracy_score(test_labels,predicted)\n",
        "\n",
        "    k_vs_accuracy.append([k,accuracy])\n",
        "\n",
        "k_vs_accuracy"
      ],
      "execution_count": 15,
      "outputs": [
        {
          "output_type": "execute_result",
          "data": {
            "text/plain": [
              "[[2, 0.52],\n",
              " [3, 0.57],\n",
              " [4, 0.55],\n",
              " [5, 0.59],\n",
              " [6, 0.61],\n",
              " [7, 0.66],\n",
              " [8, 0.67],\n",
              " [9, 0.67]]"
            ]
          },
          "metadata": {
            "tags": []
          },
          "execution_count": 15
        }
      ]
    },
    {
      "cell_type": "code",
      "metadata": {
        "id": "FYs8ynWS5s_h",
        "colab": {
          "base_uri": "https://localhost:8080/",
          "height": 282
        },
        "outputId": "b3eff826-e2d3-4c71-b6ff-132333059ecf"
      },
      "source": [
        "accuracy_plot = np.array(k_vs_accuracy)\n",
        "x,y = accuracy_plot.T\n",
        "plt.plot(x,y)\n"
      ],
      "execution_count": 16,
      "outputs": [
        {
          "output_type": "execute_result",
          "data": {
            "text/plain": [
              "[<matplotlib.lines.Line2D at 0x7fd64d03c8d0>]"
            ]
          },
          "metadata": {
            "tags": []
          },
          "execution_count": 16
        },
        {
          "output_type": "display_data",
          "data": {
            "image/png": "[encoded data removed]",
            "text/plain": [
              "<Figure size 432x288 with 1 Axes>"
            ]
          },
          "metadata": {
            "tags": [],
            "needs_background": "light"
          }
        }
      ]
    },
    {
      "cell_type": "code",
      "metadata": {
        "id": "yywLCM4m-Fwx",
        "colab": {
          "base_uri": "https://localhost:8080/"
        },
        "outputId": "d9a57208-bc89-405b-b5d6-30cf9df1233c"
      },
      "source": [
        "#TAking a fixed value of K\n",
        "\n",
        "from sklearn.neighbors import KNeighborsClassifier\n",
        "from sklearn.metrics import accuracy_score\n",
        "\n",
        "neigh = KNeighborsClassifier(n_neighbors=7)\n",
        "neigh.fit(train_data,train_labels)\n",
        "\n",
        "predicted = neigh.predict(test_data)\n",
        "\n",
        "accuracy = accuracy_score(test_labels,predicted)\n",
        "print(\"Accuracy of the model \",accuracy)\n",
        "\n",
        "\n",
        "from sklearn.metrics import confusion_matrix\n",
        "confusion_matrix(test_labels, predicted)"
      ],
      "execution_count": 17,
      "outputs": [
        {
          "output_type": "stream",
          "text": [
            "Accuracy of the model  0.66\n"
          ],
          "name": "stdout"
        },
        {
          "output_type": "execute_result",
          "data": {
            "text/plain": [
              "array([[ 4,  0, 12],\n",
              "       [ 4,  1, 11],\n",
              "       [ 5,  2, 61]])"
            ]
          },
          "metadata": {
            "tags": []
          },
          "execution_count": 17
        }
      ]
    },
    {
      "cell_type": "code",
      "metadata": {
        "id": "cEbLVROqCOaY",
        "colab": {
          "base_uri": "https://localhost:8080/"
        },
        "outputId": "9b335aa4-c305-4ad9-9959-978342a0b0c5"
      },
      "source": [
        "ft=neigh.predict(test_data)\n",
        "print(ft)"
      ],
      "execution_count": 18,
      "outputs": [
        {
          "output_type": "stream",
          "text": [
            "[2 2 2 2 2 2 0 2 2 2 2 2 2 0 2 2 2 2 2 1 2 0 0 2 2 2 2 2 2 2 2 0 2 2 2 2 2\n",
            " 2 2 0 0 2 0 2 2 2 0 2 2 2 2 2 2 2 2 1 2 2 2 2 2 2 1 0 2 2 0 2 2 2 2 2 0 2\n",
            " 2 2 2 2 2 2 2 2 2 2 2 2 2 2 2 2 2 2 2 2 2 2 2 0 2 2]\n"
          ],
          "name": "stdout"
        }
      ]
    },
    {
      "cell_type": "code",
      "metadata": {
        "id": "P-P3VpwMFfgi",
        "colab": {
          "base_uri": "https://localhost:8080/",
          "height": 249
        },
        "outputId": "a0df8bd8-edf6-4207-f108-053105f5cb7d"
      },
      "source": [
        "labels='Good','Average','Below_Average'\n",
        "sizes=[test_labels.count(0),test_labels.count(1),test_labels.count(2)]\n",
        "explode=(0,0,0.1)\n",
        "fig1, ax1 = plt.subplots()\n",
        "ax1.pie(sizes, explode=explode, labels=labels, autopct='%5.1f%%',shadow=True, startangle=45)\n",
        "ax1.axis('equal')\n",
        "plt.show()"
      ],
      "execution_count": 19,
      "outputs": [
        {
          "output_type": "display_data",
          "data": {
            "image/png": "[encoded data removed]",
            "text/plain": [
              "<Figure size 432x288 with 1 Axes>"
            ]
          },
          "metadata": {
            "tags": []
          }
        }
      ]
    },
    {
      "cell_type": "code",
      "metadata": {
        "id": "-FfVO8qGG-lp"
      },
      "source": [
        ""
      ],
      "execution_count": 19,
      "outputs": []
    }
  ]
}